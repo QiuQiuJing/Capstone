{
 "cells": [
  {
   "cell_type": "code",
   "execution_count": 599,
   "metadata": {},
   "outputs": [],
   "source": [
    "import pandas as pd\n",
    "import requests\n",
    "from bs4 import BeautifulSoup\n",
    "import urllib\n",
    "import numpy as np\n",
    "\n",
    "import requests\n",
    "import time\n",
    "from selenium import webdriver\n",
    "from selenium.webdriver.common.keys import Keys\n",
    "from selenium.common.exceptions import NoSuchElementException\n"
   ]
  },
  {
   "cell_type": "code",
   "execution_count": 304,
   "metadata": {},
   "outputs": [],
   "source": [
    "#step 1 \n",
    "#Get url for product in each category\n",
    "driver = webdriver.Chrome('/Users/bestmacbook/Downloads/chromedriver')\n",
    "productcat = ['face-wash-facial-cleanser', 'facial-toner-skin-toner', 'moisturizer-skincare']\n",
    "df = pd.DataFrame(columns=['Category', 'URL'])\n",
    "\n",
    "for cat in productcat:\n",
    "    driver.get('https://www.sephora.com/shop/'+cat+'?pageSize=300')\n",
    "    time.sleep(1)\n",
    "\n",
    "    elem = driver.find_element_by_tag_name(\"body\")\n",
    "\n",
    "    no_of_pagedowns = 10\n",
    "    while no_of_pagedowns:\n",
    "        elem.send_keys(Keys.PAGE_DOWN)\n",
    "        time.sleep(0.2)\n",
    "        no_of_pagedowns-=1\n",
    "    \n",
    "    pi = driver.find_elements_by_class_name(\"css-ix8km1\")\n",
    "\n",
    "    producturl = []\n",
    "    for a in pi:\n",
    "        subURL = a.get_attribute('href')\n",
    "        producturl.append(subURL)\n",
    "    \n",
    "    dic = {'Category': cat, 'URL': producturl}\n",
    "    df = df.append(pd.DataFrame(dic), ignore_index = True)"
   ]
  },
  {
   "cell_type": "code",
   "execution_count": 305,
   "metadata": {},
   "outputs": [
    {
     "data": {
      "text/html": [
       "<div>\n",
       "<style scoped>\n",
       "    .dataframe tbody tr th:only-of-type {\n",
       "        vertical-align: middle;\n",
       "    }\n",
       "\n",
       "    .dataframe tbody tr th {\n",
       "        vertical-align: top;\n",
       "    }\n",
       "\n",
       "    .dataframe thead th {\n",
       "        text-align: right;\n",
       "    }\n",
       "</style>\n",
       "<table border=\"1\" class=\"dataframe\">\n",
       "  <thead>\n",
       "    <tr style=\"text-align: right;\">\n",
       "      <th></th>\n",
       "      <th>URL</th>\n",
       "    </tr>\n",
       "    <tr>\n",
       "      <th>Category</th>\n",
       "      <th></th>\n",
       "    </tr>\n",
       "  </thead>\n",
       "  <tbody>\n",
       "    <tr>\n",
       "      <th>face-wash-facial-cleanser</th>\n",
       "      <td>96</td>\n",
       "    </tr>\n",
       "    <tr>\n",
       "      <th>facial-toner-skin-toner</th>\n",
       "      <td>96</td>\n",
       "    </tr>\n",
       "    <tr>\n",
       "      <th>moisturizer-skincare</th>\n",
       "      <td>96</td>\n",
       "    </tr>\n",
       "  </tbody>\n",
       "</table>\n",
       "</div>"
      ],
      "text/plain": [
       "                           URL\n",
       "Category                      \n",
       "face-wash-facial-cleanser   96\n",
       "facial-toner-skin-toner     96\n",
       "moisturizer-skincare        96"
      ]
     },
     "execution_count": 305,
     "metadata": {},
     "output_type": "execute_result"
    }
   ],
   "source": [
    "df.groupby('Category').count()"
   ]
  },
  {
   "cell_type": "code",
   "execution_count": 306,
   "metadata": {},
   "outputs": [],
   "source": [
    "#clean product url \n",
    "newurl = []\n",
    "for i in df.URL:\n",
    "    newi = i.split('?')[0]\n",
    "    newurl.append(newi)\n",
    "df.URL = newurl"
   ]
  },
  {
   "cell_type": "code",
   "execution_count": 307,
   "metadata": {},
   "outputs": [],
   "source": [
    "df.to_csv('url.csv')"
   ]
  },
  {
   "cell_type": "code",
   "execution_count": null,
   "metadata": {},
   "outputs": [],
   "source": []
  },
  {
   "cell_type": "code",
   "execution_count": 555,
   "metadata": {},
   "outputs": [],
   "source": [
    "#step 2\n",
    "#scrape product brands, names, ranks, prices, descriptions, ingredients and skin types\n",
    "df = pd.read_csv('./url.csv')\n",
    "df.drop('Unnamed: 0', axis=1, inplace=True)\n",
    "df_info = pd.DataFrame(columns=['brand', 'name', 'rating', 'price',\n",
    "                                'descriptions', 'ingredients','pic'])\n",
    "df = pd.concat([df, df_info], axis = 1)"
   ]
  },
  {
   "cell_type": "code",
   "execution_count": 609,
   "metadata": {},
   "outputs": [],
   "source": [
    "#####samples#####"
   ]
  },
  {
   "cell_type": "code",
   "execution_count": 630,
   "metadata": {
    "scrolled": true
   },
   "outputs": [],
   "source": [
    "\n",
    "driver = webdriver.Chrome('./chromedriver')\n",
    "driver.get('https://www.sephora.com/product/legend-P375713')\n",
    "time.sleep(2)\n",
    "\n",
    "\n",
    "item = driver.find_element_by_class_name('css-a1jw00').text.split('\\n')\n",
    "br = item[0]\n",
    "na = item[1]\n",
    "pr = driver.find_element_by_class_name('css-14hdny6').text\n",
    "\n",
    "\n",
    "de = driver.find_element_by_class_name('css-1rny024').text\n",
    "\n",
    "elem = driver.find_element_by_tag_name(\"body\")\n",
    "elem.send_keys(Keys.PAGE_DOWN)\n",
    "time.sleep(2)\n",
    "\n",
    "driver.find_element_by_id('tab1').click()\n",
    "ing = driver.find_element_by_id('tabpanel1').text\n",
    "time.sleep(2)    \n",
    "no_of_pagedowns = 3\n",
    "\n",
    "while no_of_pagedowns:\n",
    "    elem = driver.find_element_by_tag_name(\"body\")\n",
    "    elem.send_keys(Keys.PAGE_DOWN)\n",
    "    time.sleep(1)\n",
    "    no_of_pagedowns-=1\n",
    "\n",
    "try:\n",
    "    ra = driver.find_element_by_class_name('css-1eqf5yr').text\n",
    "    ra = float(ra.split(' / ')[0])\n",
    "except NoSuchElementException:\n",
    "    df_info.rating[0] = np.nan\n",
    "time.sleep(1)\n",
    "driver.find_element_by_class_name('css-1juuxmf').click()\n",
    "time.sleep(1)\n",
    "pi = driver.find_element_by_class_name('css-1glglyy').get_attribute('src')\n",
    "\n"
   ]
  },
  {
   "cell_type": "code",
   "execution_count": 631,
   "metadata": {
    "scrolled": true
   },
   "outputs": [
    {
     "data": {
      "text/html": [
       "<div>\n",
       "<style scoped>\n",
       "    .dataframe tbody tr th:only-of-type {\n",
       "        vertical-align: middle;\n",
       "    }\n",
       "\n",
       "    .dataframe tbody tr th {\n",
       "        vertical-align: top;\n",
       "    }\n",
       "\n",
       "    .dataframe thead th {\n",
       "        text-align: right;\n",
       "    }\n",
       "</style>\n",
       "<table border=\"1\" class=\"dataframe\">\n",
       "  <thead>\n",
       "    <tr style=\"text-align: right;\">\n",
       "      <th></th>\n",
       "      <th>brand</th>\n",
       "      <th>name</th>\n",
       "      <th>rating</th>\n",
       "      <th>price</th>\n",
       "      <th>descriptions</th>\n",
       "      <th>ingredients</th>\n",
       "      <th>pic</th>\n",
       "    </tr>\n",
       "  </thead>\n",
       "  <tbody>\n",
       "    <tr>\n",
       "      <th>0</th>\n",
       "      <td>MONTBLANC</td>\n",
       "      <td>Legend</td>\n",
       "      <td>4.8</td>\n",
       "      <td>$92.00</td>\n",
       "      <td>The Montblanc Legend man is confident and char...</td>\n",
       "      <td>Alcohol Denat. (Sd Alcohol 39-C), Water, Fragr...</td>\n",
       "      <td>https://www.sephora.com/productimages/sku/s145...</td>\n",
       "    </tr>\n",
       "  </tbody>\n",
       "</table>\n",
       "</div>"
      ],
      "text/plain": [
       "       brand    name  rating   price  \\\n",
       "0  MONTBLANC  Legend     4.8  $92.00   \n",
       "\n",
       "                                        descriptions  \\\n",
       "0  The Montblanc Legend man is confident and char...   \n",
       "\n",
       "                                         ingredients  \\\n",
       "0  Alcohol Denat. (Sd Alcohol 39-C), Water, Fragr...   \n",
       "\n",
       "                                                 pic  \n",
       "0  https://www.sephora.com/productimages/sku/s145...  "
      ]
     },
     "execution_count": 631,
     "metadata": {},
     "output_type": "execute_result"
    }
   ],
   "source": [
    "pd.DataFrame({'brand':br, 'name':na, 'rating':ra, 'price':pr,'descriptions':de, 'ingredients':ing,'pic':pi},index=[0])"
   ]
  },
  {
   "cell_type": "code",
   "execution_count": null,
   "metadata": {},
   "outputs": [],
   "source": [
    "DataFrame({'brand':br, 'name':na, 'rating':ra, 'price':pr,'descriptions':de, 'ingredients':ing,'pic':pi},index=[0])"
   ]
  },
  {
   "cell_type": "code",
   "execution_count": null,
   "metadata": {},
   "outputs": [],
   "source": []
  },
  {
   "cell_type": "code",
   "execution_count": 569,
   "metadata": {
    "scrolled": true
   },
   "outputs": [],
   "source": [
    "driver = webdriver.Chrome('./chromedriver')\n",
    "for i in range(len(df.URL)):\n",
    "    driver.get(df.URL[i])\n",
    "    time.sleep(5)\n",
    "\n",
    "    #product brand and name\n",
    "    item = driver.find_element_by_class_name('css-a1jw00').text.split('\\n')\n",
    "    df.brand[i] = item[0]\n",
    "    df.name[i] = item[1]\n",
    "    \n",
    "    #price\n",
    "    df.price[i] = driver.find_element_by_class_name('css-14hdny6').text\n",
    "    \n",
    "    #descriptions\n",
    "    df.descriptions[i]= driver.find_element_by_class_name('css-1rny024').text\n",
    "    \n",
    "    #one page down\n",
    "    elem = driver.find_element_by_tag_name(\"body\")\n",
    "    elem.send_keys(Keys.PAGE_DOWN)\n",
    "    time.sleep(1)\n",
    "\n",
    "    #ingredient\n",
    "    #we need to click ingredient tab in product infomation table to get the text\n",
    "    driver.find_element_by_id('tab2').click()\n",
    "    df.ingredients[i] = driver.find_element_by_id('tabpanel2').text\n",
    "    \n",
    "    #scoll down so the website will show rating and review box\n",
    "    no_of_pagedowns = 3\n",
    "    while no_of_pagedowns:\n",
    "        elem = driver.find_element_by_tag_name(\"body\")\n",
    "        elem.send_keys(Keys.PAGE_DOWN)\n",
    "        time.sleep(1)\n",
    "        no_of_pagedowns-=1\n",
    "    \n",
    "    #rating \n",
    "    #there may be some product don't have ratings \n",
    "    try:\n",
    "        ra = driver.find_element_by_class_name('css-1eqf5yr').text\n",
    "        df.rating[i] = float(ra.split(' / ')[0])\n",
    "    except NoSuchElementException:\n",
    "        df.rating[i] = np.nan\n",
    "    \n",
    "    #pic\n",
    "    driver.find_element_by_class_name('css-1juuxmf').click()\n",
    "    time.sleep(1)\n",
    "    df.pic[i] = driver.find_element_by_class_name('css-1glglyy').get_attribute('src')\n",
    "    \n",
    "    time.sleep(0.5)\n",
    "     "
   ]
  },
  {
   "cell_type": "code",
   "execution_count": 608,
   "metadata": {
    "scrolled": true
   },
   "outputs": [
    {
     "data": {
      "text/html": [
       "<div>\n",
       "<style scoped>\n",
       "    .dataframe tbody tr th:only-of-type {\n",
       "        vertical-align: middle;\n",
       "    }\n",
       "\n",
       "    .dataframe tbody tr th {\n",
       "        vertical-align: top;\n",
       "    }\n",
       "\n",
       "    .dataframe thead th {\n",
       "        text-align: right;\n",
       "    }\n",
       "</style>\n",
       "<table border=\"1\" class=\"dataframe\">\n",
       "  <thead>\n",
       "    <tr style=\"text-align: right;\">\n",
       "      <th></th>\n",
       "      <th>Category</th>\n",
       "      <th>URL</th>\n",
       "      <th>brand</th>\n",
       "      <th>name</th>\n",
       "      <th>rating</th>\n",
       "      <th>price</th>\n",
       "      <th>descriptions</th>\n",
       "      <th>ingredients</th>\n",
       "      <th>pic</th>\n",
       "    </tr>\n",
       "  </thead>\n",
       "  <tbody>\n",
       "    <tr>\n",
       "      <th>0</th>\n",
       "      <td>face-wash-facial-cleanser</td>\n",
       "      <td>https://www.sephora.com/product/soy-face-clean...</td>\n",
       "      <td>FRESH</td>\n",
       "      <td>Soy Face Cleanser</td>\n",
       "      <td>4.4</td>\n",
       "      <td>$38.00</td>\n",
       "      <td>What it is: A bestselling, gently powerful fac...</td>\n",
       "      <td>-Amino Acid-rich Soy Proteins: Help maintain s...</td>\n",
       "      <td>https://www.sephora.com/productimages/sku/s487...</td>\n",
       "    </tr>\n",
       "    <tr>\n",
       "      <th>1</th>\n",
       "      <td>face-wash-facial-cleanser</td>\n",
       "      <td>https://www.sephora.com/product/kale-spinach-g...</td>\n",
       "      <td>YOUTH TO THE PEOPLE</td>\n",
       "      <td>Superfood Antioxidant Cleanser</td>\n",
       "      <td>4.3</td>\n",
       "      <td>$36.00</td>\n",
       "      <td>What it is: A daily green juice cleanse for yo...</td>\n",
       "      <td>Water, Sodium Cocoyl Glutamate, Cocamidopropyl...</td>\n",
       "      <td>https://www.sephora.com/productimages/sku/s186...</td>\n",
       "    </tr>\n",
       "    <tr>\n",
       "      <th>2</th>\n",
       "      <td>face-wash-facial-cleanser</td>\n",
       "      <td>https://www.sephora.com/product/green-clean-ma...</td>\n",
       "      <td>FARMACY</td>\n",
       "      <td>Green Clean Makeup Removing Cleansing Balm</td>\n",
       "      <td>4.6</td>\n",
       "      <td>$34.00</td>\n",
       "      <td>What it is: An award-winning makeup remover an...</td>\n",
       "      <td>-Sunflower and Ginger Root Oils: Melt even stu...</td>\n",
       "      <td>https://www.sephora.com/productimages/sku/s189...</td>\n",
       "    </tr>\n",
       "    <tr>\n",
       "      <th>3</th>\n",
       "      <td>face-wash-facial-cleanser</td>\n",
       "      <td>https://www.sephora.com/product/sugar-strawber...</td>\n",
       "      <td>FRESH</td>\n",
       "      <td>Sugar Strawberry Exfoliating Face Wash</td>\n",
       "      <td>4.5</td>\n",
       "      <td>$33.00</td>\n",
       "      <td>What it is: A gentle exfoliating face cleanser...</td>\n",
       "      <td>-Blend of White Sugar Crystals: Help smooth an...</td>\n",
       "      <td>https://www.sephora.com/productimages/sku/s222...</td>\n",
       "    </tr>\n",
       "    <tr>\n",
       "      <th>4</th>\n",
       "      <td>face-wash-facial-cleanser</td>\n",
       "      <td>https://www.sephora.com/product/purity-made-si...</td>\n",
       "      <td>PHILOSOPHY</td>\n",
       "      <td>Purity Made Simple Cleanser</td>\n",
       "      <td>4.5</td>\n",
       "      <td>$24.00</td>\n",
       "      <td>What it is: A face wash for easy, one-step cle...</td>\n",
       "      <td>-Sodium Lauroamphoacetate: Acts as a mild surf...</td>\n",
       "      <td>https://www.sephora.com/productimages/sku/s407...</td>\n",
       "    </tr>\n",
       "  </tbody>\n",
       "</table>\n",
       "</div>"
      ],
      "text/plain": [
       "                    Category  \\\n",
       "0  face-wash-facial-cleanser   \n",
       "1  face-wash-facial-cleanser   \n",
       "2  face-wash-facial-cleanser   \n",
       "3  face-wash-facial-cleanser   \n",
       "4  face-wash-facial-cleanser   \n",
       "\n",
       "                                                 URL                brand  \\\n",
       "0  https://www.sephora.com/product/soy-face-clean...                FRESH   \n",
       "1  https://www.sephora.com/product/kale-spinach-g...  YOUTH TO THE PEOPLE   \n",
       "2  https://www.sephora.com/product/green-clean-ma...              FARMACY   \n",
       "3  https://www.sephora.com/product/sugar-strawber...                FRESH   \n",
       "4  https://www.sephora.com/product/purity-made-si...           PHILOSOPHY   \n",
       "\n",
       "                                         name rating   price  \\\n",
       "0                           Soy Face Cleanser    4.4  $38.00   \n",
       "1              Superfood Antioxidant Cleanser    4.3  $36.00   \n",
       "2  Green Clean Makeup Removing Cleansing Balm    4.6  $34.00   \n",
       "3      Sugar Strawberry Exfoliating Face Wash    4.5  $33.00   \n",
       "4                 Purity Made Simple Cleanser    4.5  $24.00   \n",
       "\n",
       "                                        descriptions  \\\n",
       "0  What it is: A bestselling, gently powerful fac...   \n",
       "1  What it is: A daily green juice cleanse for yo...   \n",
       "2  What it is: An award-winning makeup remover an...   \n",
       "3  What it is: A gentle exfoliating face cleanser...   \n",
       "4  What it is: A face wash for easy, one-step cle...   \n",
       "\n",
       "                                         ingredients  \\\n",
       "0  -Amino Acid-rich Soy Proteins: Help maintain s...   \n",
       "1  Water, Sodium Cocoyl Glutamate, Cocamidopropyl...   \n",
       "2  -Sunflower and Ginger Root Oils: Melt even stu...   \n",
       "3  -Blend of White Sugar Crystals: Help smooth an...   \n",
       "4  -Sodium Lauroamphoacetate: Acts as a mild surf...   \n",
       "\n",
       "                                                 pic  \n",
       "0  https://www.sephora.com/productimages/sku/s487...  \n",
       "1  https://www.sephora.com/productimages/sku/s186...  \n",
       "2  https://www.sephora.com/productimages/sku/s189...  \n",
       "3  https://www.sephora.com/productimages/sku/s222...  \n",
       "4  https://www.sephora.com/productimages/sku/s407...  "
      ]
     },
     "execution_count": 608,
     "metadata": {},
     "output_type": "execute_result"
    }
   ],
   "source": [
    "df.head()"
   ]
  },
  {
   "cell_type": "code",
   "execution_count": 607,
   "metadata": {},
   "outputs": [],
   "source": [
    "df.to_csv('product_info_raw.csv')"
   ]
  },
  {
   "cell_type": "code",
   "execution_count": null,
   "metadata": {},
   "outputs": [],
   "source": []
  },
  {
   "cell_type": "code",
   "execution_count": null,
   "metadata": {},
   "outputs": [],
   "source": []
  },
  {
   "cell_type": "code",
   "execution_count": null,
   "metadata": {},
   "outputs": [],
   "source": []
  },
  {
   "cell_type": "code",
   "execution_count": null,
   "metadata": {},
   "outputs": [],
   "source": []
  },
  {
   "cell_type": "code",
   "execution_count": null,
   "metadata": {},
   "outputs": [],
   "source": [
    "\n"
   ]
  },
  {
   "cell_type": "code",
   "execution_count": null,
   "metadata": {},
   "outputs": [],
   "source": [
    "\n"
   ]
  },
  {
   "cell_type": "code",
   "execution_count": 235,
   "metadata": {},
   "outputs": [],
   "source": []
  },
  {
   "cell_type": "code",
   "execution_count": null,
   "metadata": {},
   "outputs": [],
   "source": []
  },
  {
   "cell_type": "code",
   "execution_count": null,
   "metadata": {},
   "outputs": [],
   "source": []
  },
  {
   "cell_type": "code",
   "execution_count": null,
   "metadata": {},
   "outputs": [],
   "source": []
  },
  {
   "cell_type": "code",
   "execution_count": null,
   "metadata": {},
   "outputs": [],
   "source": [
    "\n",
    "    "
   ]
  },
  {
   "cell_type": "code",
   "execution_count": null,
   "metadata": {},
   "outputs": [],
   "source": []
  },
  {
   "cell_type": "code",
   "execution_count": null,
   "metadata": {},
   "outputs": [],
   "source": []
  }
 ],
 "metadata": {
  "kernelspec": {
   "display_name": "Python 3",
   "language": "python",
   "name": "python3"
  },
  "language_info": {
   "codemirror_mode": {
    "name": "ipython",
    "version": 3
   },
   "file_extension": ".py",
   "mimetype": "text/x-python",
   "name": "python",
   "nbconvert_exporter": "python",
   "pygments_lexer": "ipython3",
   "version": "3.7.3"
  }
 },
 "nbformat": 4,
 "nbformat_minor": 2
}
