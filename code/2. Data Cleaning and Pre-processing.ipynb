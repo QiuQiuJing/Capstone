{
 "cells": [
  {
   "cell_type": "markdown",
   "metadata": {},
   "source": [
    "# Capstone: Recommender System\n",
    "## 2. Data Cleaning and Pre-processing"
   ]
  },
  {
   "cell_type": "code",
   "execution_count": 1,
   "metadata": {},
   "outputs": [],
   "source": [
    "import pandas as pd\n",
    "import numpy as np\n",
    "import regex as re"
   ]
  },
  {
   "cell_type": "code",
   "execution_count": 131,
   "metadata": {},
   "outputs": [],
   "source": [
    "#part 1 product info\n",
    "df = pd.read_csv('../datasets/product_info_raw.csv')"
   ]
  },
  {
   "cell_type": "code",
   "execution_count": 132,
   "metadata": {},
   "outputs": [
    {
     "data": {
      "text/html": [
       "<div>\n",
       "<style scoped>\n",
       "    .dataframe tbody tr th:only-of-type {\n",
       "        vertical-align: middle;\n",
       "    }\n",
       "\n",
       "    .dataframe tbody tr th {\n",
       "        vertical-align: top;\n",
       "    }\n",
       "\n",
       "    .dataframe thead th {\n",
       "        text-align: right;\n",
       "    }\n",
       "</style>\n",
       "<table border=\"1\" class=\"dataframe\">\n",
       "  <thead>\n",
       "    <tr style=\"text-align: right;\">\n",
       "      <th></th>\n",
       "      <th>Unnamed: 0</th>\n",
       "      <th>Category</th>\n",
       "      <th>URL</th>\n",
       "      <th>brand</th>\n",
       "      <th>name</th>\n",
       "      <th>rating</th>\n",
       "      <th>price</th>\n",
       "      <th>descriptions</th>\n",
       "      <th>ingredients</th>\n",
       "      <th>pic</th>\n",
       "      <th>productsize</th>\n",
       "    </tr>\n",
       "  </thead>\n",
       "  <tbody>\n",
       "    <tr>\n",
       "      <th>0</th>\n",
       "      <td>0</td>\n",
       "      <td>face-wash-facial-cleanser</td>\n",
       "      <td>https://www.sephora.com/product/soy-face-clean...</td>\n",
       "      <td>FRESH</td>\n",
       "      <td>Soy Face Cleanser</td>\n",
       "      <td>4.4</td>\n",
       "      <td>$38.00</td>\n",
       "      <td>What it is: A bestselling, gently powerful fac...</td>\n",
       "      <td>-Amino Acid-rich Soy Proteins: Help maintain s...</td>\n",
       "      <td>https://www.sephora.com/productimages/sku/s487...</td>\n",
       "      <td>SIZE: 5.1 oz/ 150 mL</td>\n",
       "    </tr>\n",
       "    <tr>\n",
       "      <th>1</th>\n",
       "      <td>1</td>\n",
       "      <td>face-wash-facial-cleanser</td>\n",
       "      <td>https://www.sephora.com/product/kale-spinach-g...</td>\n",
       "      <td>YOUTH TO THE PEOPLE</td>\n",
       "      <td>Superfood Antioxidant Cleanser</td>\n",
       "      <td>4.3</td>\n",
       "      <td>$36.00</td>\n",
       "      <td>What it is: A daily green juice cleanse for yo...</td>\n",
       "      <td>Water, Sodium Cocoyl Glutamate, Cocamidopropyl...</td>\n",
       "      <td>https://www.sephora.com/productimages/sku/s186...</td>\n",
       "      <td>SIZE: 8 oz/ 237 mL</td>\n",
       "    </tr>\n",
       "    <tr>\n",
       "      <th>2</th>\n",
       "      <td>2</td>\n",
       "      <td>face-wash-facial-cleanser</td>\n",
       "      <td>https://www.sephora.com/product/green-clean-ma...</td>\n",
       "      <td>FARMACY</td>\n",
       "      <td>Green Clean Makeup Removing Cleansing Balm</td>\n",
       "      <td>4.6</td>\n",
       "      <td>$34.00</td>\n",
       "      <td>What it is: An award-winning makeup remover an...</td>\n",
       "      <td>-Sunflower and Ginger Root Oils: Melt even stu...</td>\n",
       "      <td>https://www.sephora.com/productimages/sku/s189...</td>\n",
       "      <td>SIZE: 3.2 oz/ 90 mL</td>\n",
       "    </tr>\n",
       "    <tr>\n",
       "      <th>3</th>\n",
       "      <td>3</td>\n",
       "      <td>face-wash-facial-cleanser</td>\n",
       "      <td>https://www.sephora.com/product/sugar-strawber...</td>\n",
       "      <td>FRESH</td>\n",
       "      <td>Sugar Strawberry Exfoliating Face Wash</td>\n",
       "      <td>4.5</td>\n",
       "      <td>$33.00</td>\n",
       "      <td>What it is: A gentle exfoliating face cleanser...</td>\n",
       "      <td>-Blend of White Sugar Crystals: Help smooth an...</td>\n",
       "      <td>https://www.sephora.com/productimages/sku/s222...</td>\n",
       "      <td>SIZE 4.2 oz/ 125 mL•ITEM 2223592</td>\n",
       "    </tr>\n",
       "    <tr>\n",
       "      <th>4</th>\n",
       "      <td>4</td>\n",
       "      <td>face-wash-facial-cleanser</td>\n",
       "      <td>https://www.sephora.com/product/purity-made-si...</td>\n",
       "      <td>PHILOSOPHY</td>\n",
       "      <td>Purity Made Simple Cleanser</td>\n",
       "      <td>4.5</td>\n",
       "      <td>$24.00</td>\n",
       "      <td>What it is: A face wash for easy, one-step cle...</td>\n",
       "      <td>-Sodium Lauroamphoacetate: Acts as a mild surf...</td>\n",
       "      <td>https://www.sephora.com/productimages/sku/s407...</td>\n",
       "      <td>SIZE: 8 oz</td>\n",
       "    </tr>\n",
       "  </tbody>\n",
       "</table>\n",
       "</div>"
      ],
      "text/plain": [
       "   Unnamed: 0                   Category  \\\n",
       "0           0  face-wash-facial-cleanser   \n",
       "1           1  face-wash-facial-cleanser   \n",
       "2           2  face-wash-facial-cleanser   \n",
       "3           3  face-wash-facial-cleanser   \n",
       "4           4  face-wash-facial-cleanser   \n",
       "\n",
       "                                                 URL                brand  \\\n",
       "0  https://www.sephora.com/product/soy-face-clean...                FRESH   \n",
       "1  https://www.sephora.com/product/kale-spinach-g...  YOUTH TO THE PEOPLE   \n",
       "2  https://www.sephora.com/product/green-clean-ma...              FARMACY   \n",
       "3  https://www.sephora.com/product/sugar-strawber...                FRESH   \n",
       "4  https://www.sephora.com/product/purity-made-si...           PHILOSOPHY   \n",
       "\n",
       "                                         name  rating   price  \\\n",
       "0                           Soy Face Cleanser     4.4  $38.00   \n",
       "1              Superfood Antioxidant Cleanser     4.3  $36.00   \n",
       "2  Green Clean Makeup Removing Cleansing Balm     4.6  $34.00   \n",
       "3      Sugar Strawberry Exfoliating Face Wash     4.5  $33.00   \n",
       "4                 Purity Made Simple Cleanser     4.5  $24.00   \n",
       "\n",
       "                                        descriptions  \\\n",
       "0  What it is: A bestselling, gently powerful fac...   \n",
       "1  What it is: A daily green juice cleanse for yo...   \n",
       "2  What it is: An award-winning makeup remover an...   \n",
       "3  What it is: A gentle exfoliating face cleanser...   \n",
       "4  What it is: A face wash for easy, one-step cle...   \n",
       "\n",
       "                                         ingredients  \\\n",
       "0  -Amino Acid-rich Soy Proteins: Help maintain s...   \n",
       "1  Water, Sodium Cocoyl Glutamate, Cocamidopropyl...   \n",
       "2  -Sunflower and Ginger Root Oils: Melt even stu...   \n",
       "3  -Blend of White Sugar Crystals: Help smooth an...   \n",
       "4  -Sodium Lauroamphoacetate: Acts as a mild surf...   \n",
       "\n",
       "                                                 pic  \\\n",
       "0  https://www.sephora.com/productimages/sku/s487...   \n",
       "1  https://www.sephora.com/productimages/sku/s186...   \n",
       "2  https://www.sephora.com/productimages/sku/s189...   \n",
       "3  https://www.sephora.com/productimages/sku/s222...   \n",
       "4  https://www.sephora.com/productimages/sku/s407...   \n",
       "\n",
       "                        productsize  \n",
       "0              SIZE: 5.1 oz/ 150 mL  \n",
       "1                SIZE: 8 oz/ 237 mL  \n",
       "2               SIZE: 3.2 oz/ 90 mL  \n",
       "3  SIZE 4.2 oz/ 125 mL•ITEM 2223592  \n",
       "4                        SIZE: 8 oz  "
      ]
     },
     "execution_count": 132,
     "metadata": {},
     "output_type": "execute_result"
    }
   ],
   "source": [
    "df.head()"
   ]
  },
  {
   "cell_type": "code",
   "execution_count": 133,
   "metadata": {},
   "outputs": [],
   "source": [
    "df.drop('Unnamed: 0', axis=1, inplace=True)"
   ]
  },
  {
   "cell_type": "code",
   "execution_count": 134,
   "metadata": {},
   "outputs": [
    {
     "name": "stdout",
     "output_type": "stream",
     "text": [
      "<class 'pandas.core.frame.DataFrame'>\n",
      "RangeIndex: 288 entries, 0 to 287\n",
      "Data columns (total 10 columns):\n",
      "Category        288 non-null object\n",
      "URL             288 non-null object\n",
      "brand           288 non-null object\n",
      "name            288 non-null object\n",
      "rating          285 non-null float64\n",
      "price           288 non-null object\n",
      "descriptions    288 non-null object\n",
      "ingredients     288 non-null object\n",
      "pic             288 non-null object\n",
      "productsize     287 non-null object\n",
      "dtypes: float64(1), object(9)\n",
      "memory usage: 22.6+ KB\n"
     ]
    }
   ],
   "source": [
    "df.info()"
   ]
  },
  {
   "cell_type": "code",
   "execution_count": 135,
   "metadata": {},
   "outputs": [],
   "source": [
    "#drop rows contains NaN \n",
    "df = df[~df.rating.isnull()]\n",
    "df = df[~df.productsize.isnull()]"
   ]
  },
  {
   "cell_type": "code",
   "execution_count": 136,
   "metadata": {},
   "outputs": [],
   "source": [
    "#clean price column\n",
    "p = [i.split('\\n')[0] for i in df.price]\n",
    "p = [i.split(' ')[0] for i in p]\n",
    "df.price = [float(i.replace('$','')) for i in p]"
   ]
  },
  {
   "cell_type": "code",
   "execution_count": null,
   "metadata": {},
   "outputs": [],
   "source": [
    "#clean product size column\n",
    "\n",
    "size_oz1=[re.findall(\"(\\d+\\.*\\d*) oz\",i) for i in df.productsize]\n",
    "size_oz2 = []\n",
    "for i in range(len(size_oz1)):\n",
    "    if size_oz1[i] != []:\n",
    "        try:\n",
    "            size_oz1[i] = float(size_oz1[i][0])\n",
    "            size_oz2.append(size_oz1[i])\n",
    "        except ValueError:\n",
    "            n = re.findall(\"(\\d+)\",size_oz1[i])\n",
    "            size_oz2.append(n)\n",
    "    else:\n",
    "        print(df.iloc[i],'\\n *********************')\n",
    "        size_oz2.append(np.nan)\n",
    "   "
   ]
  },
  {
   "cell_type": "code",
   "execution_count": 138,
   "metadata": {},
   "outputs": [],
   "source": [
    "#adding new column oz to df\n",
    "df = df.assign(oz = size_oz2)"
   ]
  },
  {
   "cell_type": "code",
   "execution_count": null,
   "metadata": {},
   "outputs": [],
   "source": [
    "#fill in value \n",
    "df.oz[12] = 3.88\n",
    "df.oz[32] = 2.00\n",
    "df.oz[59] = 1.00\n",
    "df.oz[68] = 2.00\n",
    "df.oz[81] = 1.00\n",
    "df.oz[88] = 4.22\n",
    "df.oz[92] = 5.00\n",
    "df.oz[152] = 8.40\n",
    "df.oz[174] = 0.90\n",
    "df.oz[175] = 6.50\n",
    "df.oz[183] = 2.00\n",
    "df.oz[207] = 1.08\n",
    "df.oz[215] = 1.70\n",
    "df.oz[219] = 1.60\n",
    "df.oz[226] = 1.00\n",
    "df.oz[237] = 1.70\n",
    "df.oz[244] = 4.20\n",
    "df.oz[252] = 0.37\n",
    "df.oz[259] = 1.70\n",
    "df.oz[268] = 1.70\n",
    "df.oz[271] = 1.69\n",
    "df.oz[274] = 1.69\n",
    "\n"
   ]
  },
  {
   "cell_type": "code",
   "execution_count": 143,
   "metadata": {},
   "outputs": [],
   "source": [
    "df = df[~df.oz.isnull()]"
   ]
  },
  {
   "cell_type": "code",
   "execution_count": 166,
   "metadata": {},
   "outputs": [],
   "source": [
    "index = list(df.index)"
   ]
  },
  {
   "cell_type": "code",
   "execution_count": 167,
   "metadata": {},
   "outputs": [
    {
     "name": "stderr",
     "output_type": "stream",
     "text": [
      "/anaconda3/lib/python3.7/site-packages/pandas/core/generic.py:5096: SettingWithCopyWarning: \n",
      "A value is trying to be set on a copy of a slice from a DataFrame.\n",
      "Try using .loc[row_indexer,col_indexer] = value instead\n",
      "\n",
      "See the caveats in the documentation: http://pandas.pydata.org/pandas-docs/stable/indexing.html#indexing-view-versus-copy\n",
      "  self[name] = value\n",
      "/anaconda3/lib/python3.7/site-packages/ipykernel_launcher.py:4: SettingWithCopyWarning: \n",
      "A value is trying to be set on a copy of a slice from a DataFrame\n",
      "\n",
      "See the caveats in the documentation: http://pandas.pydata.org/pandas-docs/stable/indexing.html#indexing-view-versus-copy\n",
      "  after removing the cwd from sys.path.\n"
     ]
    }
   ],
   "source": [
    "#combine product brand and product name to create new column full_name\n",
    "df.full_name = ''\n",
    "for i in index:\n",
    "    df.full_name[i] = df.brand[i] +' '+ df.name[i]\n",
    "    "
   ]
  },
  {
   "cell_type": "code",
   "execution_count": 171,
   "metadata": {},
   "outputs": [],
   "source": [
    "#based on size and price of product, add a new column price per oz called price_oz\n",
    "price=[]\n",
    "for i in index:\n",
    "    num = df.price[i]/df.oz[i]\n",
    "    price.append(num)\n",
    "df = df.assign(price_oz = price)"
   ]
  },
  {
   "cell_type": "code",
   "execution_count": 212,
   "metadata": {},
   "outputs": [],
   "source": [
    "#ingredients \n",
    "l = []\n",
    "for i in index:\n",
    "    try:\n",
    "        e = df.ingredients[i].split('\\n\\n')[1]\n",
    "        l.append(e)\n",
    "    except:\n",
    "        l.append(df.ingredients[i])\n",
    "df = df.assign(pure_ingredients = l)"
   ]
  },
  {
   "cell_type": "code",
   "execution_count": null,
   "metadata": {},
   "outputs": [],
   "source": [
    "#manully fill in ingredients\n",
    "df.pure_ingredients[12] = df.ingredients[12].split('\\n\\n')[0].replace('Slaai™ Makeup-Melting Butter Cleanser:\\n','')\n",
    "df.pure_ingredients[32] = df.ingredients[32].replace('Pekee Bar™:\\n','')\n",
    "df.pure_ingredients[46] = df.ingredients[46].replace('Radiant Vitality 2 In 1 Foam Clnsr Division: El (Estee Lauder)Ingredients: ','')\n",
    "df.pure_ingredients[67] = 'Aqua (Water), Cetearyl Ethylhexanoate, Cetearyl Alcohol, Caprylic/ Capric Triglyceride, Sesamum Indicum (Sesame) Seed Oil, Cetearyl Glucoside, Butyrospermum Parkii (Shea Butter), Myristyl Myristate, Glycerin, Ribes Nigrum (Black currant) Seed Oil, Phenoxyethanol, Helianthus Annuus (Sunflower) Seed Oil, Oryzanol, Bisabolol, Sodium Hydroxymethylglycinate, Hippophae Rhamnoides Fruit Extract, Calendula Officinalis Flower Extract, Citric Acid, Tocopherol, Xanthan Gum, Limonene, Linalool, Anthemis Nobilis Flower Oil, Pelargonium Graveolens Flower Oil, Foeniculum Vulgare (Fennel) Fruit Extract, Citronellol, Citrus Nobilis (Mandarin Orange) Peel Oil, Anthemis Nobilis Flower Extract, Cinnamomum Camphora Linalloliferum (Ho Wood) Leaf Oil.'\n",
    "df.pure_ingredients[68] = df.ingredients[68].replace('Pekee Bar™: ','')\n",
    "df.pure_ingredients[95] = 'AQUA/WATER/EAU, COCO-GLUCOSIDE, DISODIUM LAURYL SULFOSUCCINATE, GLYCERIN, COCO-BETAINE, PROPANEDIOL, SODIUM LAUROYL GLUTAMATE, DISODIUM COCOAMPHODIACETATE, ACRYLATES COPOLYMER, ALOE BARBADENSIS LEAF EXTRACT, ASCORBYL TETRAISOPALMITATE, BENZOIC ACID, BIOFLAVONOIDS, BRASSICA OLERACEA ITALICA(BROCCOLI) EXTRACT, BUTYLENE GLYCOL, CALENDULA OFFICINALIS FLOWER EXTRACT, CITRIC ACID, GLYCERYL OLEATE, GLYCERYL STEARATE, GLYCOL DISTEARATE, HELIANTHUS ANNUUS (SUNFLOWER)SEED OIL, LACTIC ACID, LONICERA CAPRIFOLIUM (HONEYSUCKLE) FLOWER EXTRACT, LONICERA JAPONICA (HONEYSUCKLE) FLOWER EXTRACT, PANTHENOL, PARFUM/FRAGRANCE, PEG-120 METHYL GLUCOSE DIOLEATE, PHENOXYETHANOL, POTASSIUM SORBATE, ROSA CANINA FRUIT OIL, ROSMARINUS OFFICINALIS (ROSEMARY) EXTRACT, SIDERITIS SCARDICA FLOWER/LEAF/STEM EXTRACT, SODIUM BENZOATE, SODIUM CHLORIDE, SODIUM HYDROXIDE, TETRASODIUM GLUTAMATE DIACETATE, TOCOPHEROL.'\n",
    "df.pure_ingredients[117] = 'Aqua (Water, Eau), Glycerin, Hamamelis Virginiana (Witch Hazel) Leaf Extract, Rosa Damascena (Rose) Flower Water, Aloe Barbadensis Leaf Juice, Rosa Hybrid Flower Extract, Rosa Domascena Flower Oil, Pentylene Glycol, Ethylhexylglycerin, Propanediol, Polysorbate 20, Potassium Sorbate, Parfum (Fragrance), Sodium Benzoate, Sodium Chloride, Citric Acid, Phenoxyethanol, Benzoic Acid, CI 16035 (Red 40), CI 15985 (Yellow 6), CI 19140 (Yellow 5)'\n",
    "df.pure_ingredients[148] = 'Water, Glycerin, Sodium Citrate, Ci 42090/ Blue 1, Ci 14700/ Red 4, Peg-60 Hydrogenated Castor Oil, Chlorphenesin, Sambucus Nigra Flower Water, Linalool, Benzyl Alcohol, Propylparaben, Alpha-Isomethyl Ionone, Geraniol, Rosa Centifolia Flower Water, Rosa Centifolia Water/ Rosa Centifolia Flower Water, Methylparaben, Tetrasodium Edta, Citronellol, Hexylene Glycol, Fragrance.'\n",
    "df.pure_ingredients[162] = 'Aqua/Water, Pentylene Glycol, Phenoxyethanol, Propylene Glycol, Sodium PCA, Methylparaben, Allantoin, Cucumis Sativus Fruit Extract/Cucumber Fruit Extract, Aloe Barbadensis/Aloe Barbadensis Leaf Juice, Camphor, Chamomilla Recutita Extract/Matricaria Flower Extract, Urtica Dioica/Nettle Extract, Equisetum Arvense Extract, Betula Alba Extract, CI 19140/Yellow 5, CI 14700/Red 4, CI 42090/Blue 1.'\n",
    "df.pure_ingredients[169] = np.nan\n",
    "df.pure_ingredients[173] = 'Water, Aloe Barbadensis Leaf Juice, Dipropylene Glycol, PEG-8, Propylene Glycol, Linum Usitatissimum (Linseed) Seed Extract, Phenoxyethanol, Panthenol, PEG-32, PPG-26-Buteth-26, Alpha-Glucan Oligosaccharide, Sodium Citrate, Triethanolamine, PEG-40 Hydrogenated Castor Oil, Methylparaben, Acrylates/C10-30 Alkyl Acrylate Crosspolymer, Fragrance, Glycerin, Potassium Sorbate, Polyacrylic Acid, Butylene Glycol, Tocopheryl Acetate, Althea Officinalis Root Extract, Prunus Amygdalus Dulcis (Sweet Almond) Fruit Extract, Retinyl Palmitate, Arachis Hypogaea (Peanut) Oil, Hydrolyzed Linseed Extract, Propylparaben, Butylparaben, Ethylparaben, Tilia Cordata Wood Extract, Sodium Benzoate, Isobutylparaben, Xanthan Gum, Chlorphenesin, BHT, Alpha-Isomethyl Ionone, Benzyl Alcohol, Amyl Cinnamal, Anise Alcohol, Benzyl Benzoate, Eugenol, Yellow 6'\n",
    "df.pure_ingredients[175] = 'Water\\Aqua\\Eau , Alcohol Denat. , Glycerin , Dipropylene Glycol , Propanediol , Trehalose , Cucumis Sativus (Cucumber) Fruit Extract , Paeonia Suffruticosa (Peony) Root Extract , Sapindus Mukorossi Fruit Extract , Panax Ginseng (Ginseng) Root Extract , Citrullus Vulgaris (Watermelon) Fruit Extract , Vaccinium Macrocarpon (Cranberry) Fruit Extract , Vaccinium Angustifolium (Blueberry) Fruit Extract , Lycium Chinense (Wolfberry) Fruit Extract , Punica Granatum (Pomegranate) Extract , Pyrus Malus (Apple) Fruit Extract , Lens Esculenta (Lentil) Fruit Extract , Yeast Extract\\Faex\\Extrait De Levure , Algae Extract , Caesalpinia Spinosa Gum , Sodium Lactate , Sodium Hyaluronate , Tocopheryl Acetate , Caffeine , Butylene Glycol , Ergothioneine , Acetyl Glucosamine , Glycine Soja (Soybean) Seed Extract , Tetrahexyldecyl Ascorbate , Peg-8 , Ppg-6-Decyltetradeceth-30 , Carbomer , Tromethamine , Citric Acid , Sodium Pca , Fragrance (Parfum) , Trisodium Hedta , Phenoxyethanol , Yellow 6 (Ci 15985) , Red 4 (Ci 14700)'\n",
    "df.pure_ingredients[178] = df.ingredients[178].replace('Perfectly Clean Mlt-Act Tng Ltn/Rf Division: El (Estee Lauder)Ingredients: ','')\n",
    "df.pure_ingredients[183] = 'Water (Aqua Purificata) Purified, Alcohol Denat., Hamamelis Virginiana (Witch Hazel) Water, Aloe Barbadensis Leaf Juice, Butylene Glycol, Glycerin, Polysorbate 20, Beta-Glucan, Avena Sativa (Oat) Kernel Extract, Potassium Azeloyl Diglycinate, Sodium Hyaluronate, Allantoin, Panthenol, Mentha Piperita (Peppermint) Leaf Oil, Eucalyptus Globulus (Eucalyptus) Leaf Oil, Rosemarinus Officinalis (Rosemary) Leaf Oil, Citrus Grandes (Grapefruit) Peel Oil, Caprylyl Glycol, Isopentyldiol, Phenoxyethanol, Tetrasodium EDTA, Yellow 5 (CI 19140), Blue 1 (CI 42090).'\n",
    "df.pure_ingredients[194] = df.ingredients[194].split('\\n\\n')[0]\n",
    "df.pure_ingredients[199] = df.ingredients[199].split('\\n\\n')[0]\n",
    "df.pure_ingredients[200] = 'Virgin Marula Oil'\n",
    "df.pure_ingredients[203] = df.ingredients[203].split('\\n\\n')[0]\n",
    "df.pure_ingredients[205] = df.ingredients[205].split('\\n\\n')[0]\n",
    "df.pure_ingredients[217] = df.ingredients[217].split('\\n\\n')[0]\n",
    "df.pure_ingredients[254] = 'AQUA (WATER), CYCLOPENTASILOXANE, GLYCERIN, ALCOHOL, POLYSILICONE-11, POLYMETHYLSILSESQUIOXANE, PENTAERYTHRITYL TETRAISOSTEARATE, CI 77163 (BISMUTH OXYCHLORIDE), CETYL PEG/PPG-10/1 DIMETHICONE, BUTYLENE GLYCOL, SYNTHETIC FLUORPHLOGOPITE, CI 77891 (TITANIUM DIOXIDE), PHENOXYETHANOL, MAGNESIUM SULFATE, SORBITAN SESQUIOLEATE, DIPOTASSIUM GLYCYRRHIZATE, DISTEARDIMONIUM HECTORITE, XYLITOL, PENTYLENE GLYCOL, PARFUM (FRAGRANCE), SECALE CEREALE (RYE) SEED EXTRACT, ASCORBYL GLUCOSIDE, PROPYLENE CARBONATE, HEXADECENE, MALVA SYLVESTRIS (MALLOW) EXTRACT, ALUMINUM HYDROXIDE, CI 77492 (IRON OXIDES), ADENOSINE, SAPONINS, CI 77491 (IRON OXIDES), STEARIC ACID, HYDROGEN DIMETHICONE, BUTYLPHENYL METHYLPROPIONAL, BHT, LIMONENE, PALMARIA PALMATA EXTRACT, AFRAMOMUM ANGUSTIFOLIUM SEED EXTRACT, SODIUM BENZOATE, HYDROLYZED RICE PROTEIN, ALPHA-ISOMETHYL IONONE, SODIUM MYRISTOYL GLUTAMATE, GERANIOL, JASMINUM OFFICINALE (JASMINE) FLOWER EXTRACT, POLYGONUM BISTORTA ROOT EXTRACT, PENTAERYTHRITYL TETRA-DI-T-BUTYL HYDROXYHYDROCINNAMATE, TOCOPHEROL'\n",
    "df.pure_ingredients[256] = df.ingredients[256].replace('Revitalizing Supreme+ Cell Pwr Crm Division: El (Estee Lauder)Ingredients: ','')\n",
    "df.pure_ingredients[264] = 'Avobenzone 2.2%, Octinoxate 7.5%, Water, Cyclopentasiloxane, Octyldodecyl Neopentanoate, Phenethyl Benzoate, Haslea Ostrearia Extract , Palmaria Palmata Extract, Sodium Hyaluronate, Tocopheryl Acetate, Retinyl Palmitate, Lecithin, Glycerin, Pyrus Malus (Apple) Fruit Extract, Lavandula Angustifolia (Lavender) Oil, Rosmarinus Officinalis (Rosemary) Leaf Oil, Melissa Officinalis (Balm Mint) Extract, Calendula Officinalis Extract*, Leontopodium Alpinum (Edelweiss) Extract*, Peucedanum Ostruthium Leaf Extract*, Buddleja Davidii Leaf Extract*, Artemisia Umbelliformis Extract *, Anthemis Nobilis Flower Oil, Pelargonium Graveolens Flower Oil, Dimethicone, Glycereth-26, Hydroxyethyl Acrylate/Sodium Acryloyldimethyl Taurate Copolymer, Phenoxyethanol, Hydroxypropyl Starch Phosphate, Cetearyl Glucoside, Carbomer, Butylene Glycol, Sodium Hydroxide, Disodium EDTA, Iodopropynyl Butylcarbamate.'\n",
    "df.pure_ingredients[273] = df.ingredients[273].split('\\n\\n')[0]\n",
    "\n"
   ]
  },
  {
   "cell_type": "code",
   "execution_count": 306,
   "metadata": {},
   "outputs": [],
   "source": [
    "#rearrange column names\n",
    "df = df[['full_name','brand', 'name', 'Category', 'URL', 'rating', 'price', 'productsize', 'oz', 'price_oz', 'descriptions', 'ingredients', 'pure_ingredients','pic']]"
   ]
  },
  {
   "cell_type": "code",
   "execution_count": 307,
   "metadata": {},
   "outputs": [],
   "source": [
    "#drop products without ingredients after cleaning\n",
    "df = df[~df.pure_ingredients.isnull()]"
   ]
  },
  {
   "cell_type": "code",
   "execution_count": 308,
   "metadata": {},
   "outputs": [],
   "source": [
    "df.to_csv('product_info_clean.csv')"
   ]
  },
  {
   "cell_type": "code",
   "execution_count": 290,
   "metadata": {},
   "outputs": [
    {
     "data": {
      "text/plain": [
       "281"
      ]
     },
     "execution_count": 290,
     "metadata": {},
     "output_type": "execute_result"
    }
   ],
   "source": [
    "#total 281 products left\n",
    "len(df)"
   ]
  },
  {
   "cell_type": "code",
   "execution_count": null,
   "metadata": {},
   "outputs": [],
   "source": []
  },
  {
   "cell_type": "code",
   "execution_count": null,
   "metadata": {},
   "outputs": [],
   "source": [
    "#some products have the same name, we are going to rename them\n",
    "df.full_name.value_counts()"
   ]
  },
  {
   "cell_type": "code",
   "execution_count": 315,
   "metadata": {},
   "outputs": [
    {
     "data": {
      "text/html": [
       "<div>\n",
       "<style scoped>\n",
       "    .dataframe tbody tr th:only-of-type {\n",
       "        vertical-align: middle;\n",
       "    }\n",
       "\n",
       "    .dataframe tbody tr th {\n",
       "        vertical-align: top;\n",
       "    }\n",
       "\n",
       "    .dataframe thead th {\n",
       "        text-align: right;\n",
       "    }\n",
       "</style>\n",
       "<table border=\"1\" class=\"dataframe\">\n",
       "  <thead>\n",
       "    <tr style=\"text-align: right;\">\n",
       "      <th></th>\n",
       "      <th>full_name</th>\n",
       "      <th>brand</th>\n",
       "      <th>name</th>\n",
       "      <th>Category</th>\n",
       "      <th>URL</th>\n",
       "      <th>rating</th>\n",
       "      <th>price</th>\n",
       "      <th>productsize</th>\n",
       "      <th>oz</th>\n",
       "      <th>price_oz</th>\n",
       "      <th>descriptions</th>\n",
       "      <th>ingredients</th>\n",
       "      <th>pure_ingredients</th>\n",
       "      <th>pic</th>\n",
       "    </tr>\n",
       "  </thead>\n",
       "  <tbody>\n",
       "    <tr>\n",
       "      <th>114</th>\n",
       "      <td>CLINIQUE Clarifying Lotion 3</td>\n",
       "      <td>CLINIQUE</td>\n",
       "      <td>Clarifying Lotion 3</td>\n",
       "      <td>facial-toner-skin-toner</td>\n",
       "      <td>https://www.sephora.com/product/clarifying-lot...</td>\n",
       "      <td>4.4</td>\n",
       "      <td>16.0</td>\n",
       "      <td>SIZE: 6.7 oz/ 200 mL</td>\n",
       "      <td>6.7</td>\n",
       "      <td>2.388060</td>\n",
       "      <td>What it is:\\nA gentle, oil-free exfoliating lo...</td>\n",
       "      <td>Water , Alcohol Denat. , Salicylic Acid , Hama...</td>\n",
       "      <td>Water , Alcohol Denat. , Salicylic Acid , Hama...</td>\n",
       "      <td>https://www.sephora.com/productimages/sku/s129...</td>\n",
       "    </tr>\n",
       "    <tr>\n",
       "      <th>139</th>\n",
       "      <td>CLINIQUE Clarifying Lotion 3</td>\n",
       "      <td>CLINIQUE</td>\n",
       "      <td>Clarifying Lotion 3</td>\n",
       "      <td>facial-toner-skin-toner</td>\n",
       "      <td>https://www.sephora.com/product/clarifying-lot...</td>\n",
       "      <td>4.2</td>\n",
       "      <td>29.5</td>\n",
       "      <td>SIZE: 16.5 oz/ 487 mL</td>\n",
       "      <td>16.5</td>\n",
       "      <td>1.787879</td>\n",
       "      <td>What it is:\\nA gentle, oil-free exfoliating lo...</td>\n",
       "      <td>Water, Alcohol Denat., Salicylic Acid, Hamamel...</td>\n",
       "      <td>Water, Alcohol Denat., Salicylic Acid, Hamamel...</td>\n",
       "      <td>https://www.sephora.com/productimages/sku/s216...</td>\n",
       "    </tr>\n",
       "  </tbody>\n",
       "</table>\n",
       "</div>"
      ],
      "text/plain": [
       "                        full_name     brand                 name  \\\n",
       "114  CLINIQUE Clarifying Lotion 3  CLINIQUE  Clarifying Lotion 3   \n",
       "139  CLINIQUE Clarifying Lotion 3  CLINIQUE  Clarifying Lotion 3   \n",
       "\n",
       "                    Category  \\\n",
       "114  facial-toner-skin-toner   \n",
       "139  facial-toner-skin-toner   \n",
       "\n",
       "                                                   URL  rating  price  \\\n",
       "114  https://www.sephora.com/product/clarifying-lot...     4.4   16.0   \n",
       "139  https://www.sephora.com/product/clarifying-lot...     4.2   29.5   \n",
       "\n",
       "               productsize    oz  price_oz  \\\n",
       "114   SIZE: 6.7 oz/ 200 mL   6.7  2.388060   \n",
       "139  SIZE: 16.5 oz/ 487 mL  16.5  1.787879   \n",
       "\n",
       "                                          descriptions  \\\n",
       "114  What it is:\\nA gentle, oil-free exfoliating lo...   \n",
       "139  What it is:\\nA gentle, oil-free exfoliating lo...   \n",
       "\n",
       "                                           ingredients  \\\n",
       "114  Water , Alcohol Denat. , Salicylic Acid , Hama...   \n",
       "139  Water, Alcohol Denat., Salicylic Acid, Hamamel...   \n",
       "\n",
       "                                      pure_ingredients  \\\n",
       "114  Water , Alcohol Denat. , Salicylic Acid , Hama...   \n",
       "139  Water, Alcohol Denat., Salicylic Acid, Hamamel...   \n",
       "\n",
       "                                                   pic  \n",
       "114  https://www.sephora.com/productimages/sku/s129...  \n",
       "139  https://www.sephora.com/productimages/sku/s216...  "
      ]
     },
     "execution_count": 315,
     "metadata": {},
     "output_type": "execute_result"
    }
   ],
   "source": [
    "df[df.full_name == 'CLINIQUE Clarifying Lotion 3']"
   ]
  },
  {
   "cell_type": "code",
   "execution_count": 317,
   "metadata": {},
   "outputs": [],
   "source": [
    "df.loc[139,'full_name'] = 'CLINIQUE Clarifying Lotion 3 v2'"
   ]
  },
  {
   "cell_type": "code",
   "execution_count": 318,
   "metadata": {},
   "outputs": [
    {
     "data": {
      "text/html": [
       "<div>\n",
       "<style scoped>\n",
       "    .dataframe tbody tr th:only-of-type {\n",
       "        vertical-align: middle;\n",
       "    }\n",
       "\n",
       "    .dataframe tbody tr th {\n",
       "        vertical-align: top;\n",
       "    }\n",
       "\n",
       "    .dataframe thead th {\n",
       "        text-align: right;\n",
       "    }\n",
       "</style>\n",
       "<table border=\"1\" class=\"dataframe\">\n",
       "  <thead>\n",
       "    <tr style=\"text-align: right;\">\n",
       "      <th></th>\n",
       "      <th>full_name</th>\n",
       "      <th>brand</th>\n",
       "      <th>name</th>\n",
       "      <th>Category</th>\n",
       "      <th>URL</th>\n",
       "      <th>rating</th>\n",
       "      <th>price</th>\n",
       "      <th>productsize</th>\n",
       "      <th>oz</th>\n",
       "      <th>price_oz</th>\n",
       "      <th>descriptions</th>\n",
       "      <th>ingredients</th>\n",
       "      <th>pure_ingredients</th>\n",
       "      <th>pic</th>\n",
       "    </tr>\n",
       "  </thead>\n",
       "  <tbody>\n",
       "    <tr>\n",
       "      <th>107</th>\n",
       "      <td>CLINIQUE Clarifying Lotion 2</td>\n",
       "      <td>CLINIQUE</td>\n",
       "      <td>Clarifying Lotion 2</td>\n",
       "      <td>facial-toner-skin-toner</td>\n",
       "      <td>https://www.sephora.com/product/clarifying-lot...</td>\n",
       "      <td>4.4</td>\n",
       "      <td>16.0</td>\n",
       "      <td>SIZE: 6.7 oz/ 200 mL</td>\n",
       "      <td>6.7</td>\n",
       "      <td>2.388060</td>\n",
       "      <td>What it is:\\nA gentle, oil-free exfoliating lo...</td>\n",
       "      <td>Water , Alcohol Denat. , Glycerin , Hamamelis ...</td>\n",
       "      <td>Water , Alcohol Denat. , Glycerin , Hamamelis ...</td>\n",
       "      <td>https://www.sephora.com/productimages/sku/s129...</td>\n",
       "    </tr>\n",
       "    <tr>\n",
       "      <th>129</th>\n",
       "      <td>CLINIQUE Clarifying Lotion 2</td>\n",
       "      <td>CLINIQUE</td>\n",
       "      <td>Clarifying Lotion 2</td>\n",
       "      <td>facial-toner-skin-toner</td>\n",
       "      <td>https://www.sephora.com/product/clarifying-lot...</td>\n",
       "      <td>4.4</td>\n",
       "      <td>29.5</td>\n",
       "      <td>SIZE: 16.5 oz/ 487 mL</td>\n",
       "      <td>16.5</td>\n",
       "      <td>1.787879</td>\n",
       "      <td>What it is:\\nA gentle, oil-free exfoliating lo...</td>\n",
       "      <td>Water, Alcohol Denat., Glycerin, Hamamelis Vir...</td>\n",
       "      <td>Water, Alcohol Denat., Glycerin, Hamamelis Vir...</td>\n",
       "      <td>https://www.sephora.com/productimages/sku/s203...</td>\n",
       "    </tr>\n",
       "  </tbody>\n",
       "</table>\n",
       "</div>"
      ],
      "text/plain": [
       "                        full_name     brand                 name  \\\n",
       "107  CLINIQUE Clarifying Lotion 2  CLINIQUE  Clarifying Lotion 2   \n",
       "129  CLINIQUE Clarifying Lotion 2  CLINIQUE  Clarifying Lotion 2   \n",
       "\n",
       "                    Category  \\\n",
       "107  facial-toner-skin-toner   \n",
       "129  facial-toner-skin-toner   \n",
       "\n",
       "                                                   URL  rating  price  \\\n",
       "107  https://www.sephora.com/product/clarifying-lot...     4.4   16.0   \n",
       "129  https://www.sephora.com/product/clarifying-lot...     4.4   29.5   \n",
       "\n",
       "               productsize    oz  price_oz  \\\n",
       "107   SIZE: 6.7 oz/ 200 mL   6.7  2.388060   \n",
       "129  SIZE: 16.5 oz/ 487 mL  16.5  1.787879   \n",
       "\n",
       "                                          descriptions  \\\n",
       "107  What it is:\\nA gentle, oil-free exfoliating lo...   \n",
       "129  What it is:\\nA gentle, oil-free exfoliating lo...   \n",
       "\n",
       "                                           ingredients  \\\n",
       "107  Water , Alcohol Denat. , Glycerin , Hamamelis ...   \n",
       "129  Water, Alcohol Denat., Glycerin, Hamamelis Vir...   \n",
       "\n",
       "                                      pure_ingredients  \\\n",
       "107  Water , Alcohol Denat. , Glycerin , Hamamelis ...   \n",
       "129  Water, Alcohol Denat., Glycerin, Hamamelis Vir...   \n",
       "\n",
       "                                                   pic  \n",
       "107  https://www.sephora.com/productimages/sku/s129...  \n",
       "129  https://www.sephora.com/productimages/sku/s203...  "
      ]
     },
     "execution_count": 318,
     "metadata": {},
     "output_type": "execute_result"
    }
   ],
   "source": [
    "df[df.full_name == 'CLINIQUE Clarifying Lotion 2']"
   ]
  },
  {
   "cell_type": "code",
   "execution_count": 319,
   "metadata": {},
   "outputs": [],
   "source": [
    "df.loc[129,'full_name'] = 'CLINIQUE Clarifying Lotion 2 v2'"
   ]
  },
  {
   "cell_type": "code",
   "execution_count": 320,
   "metadata": {},
   "outputs": [
    {
     "data": {
      "text/html": [
       "<div>\n",
       "<style scoped>\n",
       "    .dataframe tbody tr th:only-of-type {\n",
       "        vertical-align: middle;\n",
       "    }\n",
       "\n",
       "    .dataframe tbody tr th {\n",
       "        vertical-align: top;\n",
       "    }\n",
       "\n",
       "    .dataframe thead th {\n",
       "        text-align: right;\n",
       "    }\n",
       "</style>\n",
       "<table border=\"1\" class=\"dataframe\">\n",
       "  <thead>\n",
       "    <tr style=\"text-align: right;\">\n",
       "      <th></th>\n",
       "      <th>full_name</th>\n",
       "      <th>brand</th>\n",
       "      <th>name</th>\n",
       "      <th>Category</th>\n",
       "      <th>URL</th>\n",
       "      <th>rating</th>\n",
       "      <th>price</th>\n",
       "      <th>productsize</th>\n",
       "      <th>oz</th>\n",
       "      <th>price_oz</th>\n",
       "      <th>descriptions</th>\n",
       "      <th>ingredients</th>\n",
       "      <th>pure_ingredients</th>\n",
       "      <th>pic</th>\n",
       "    </tr>\n",
       "  </thead>\n",
       "  <tbody>\n",
       "    <tr>\n",
       "      <th>56</th>\n",
       "      <td>BELIF Witch Hazel Herbal Extract Toner</td>\n",
       "      <td>BELIF</td>\n",
       "      <td>Witch Hazel Herbal Extract Toner</td>\n",
       "      <td>face-wash-facial-cleanser</td>\n",
       "      <td>https://www.sephora.com/product/witch-hazel-he...</td>\n",
       "      <td>4.6</td>\n",
       "      <td>28.0</td>\n",
       "      <td>SIZE 6.75 oz/ 200 mL•ITEM 1686344</td>\n",
       "      <td>6.75</td>\n",
       "      <td>4.148148</td>\n",
       "      <td>What it is:\\nA toner formulated with witch haz...</td>\n",
       "      <td>Water, Monarda Didyma Leaf Extract 8%, Glyceri...</td>\n",
       "      <td>Water, Monarda Didyma Leaf Extract 8%, Glyceri...</td>\n",
       "      <td>https://www.sephora.com/productimages/sku/s348...</td>\n",
       "    </tr>\n",
       "    <tr>\n",
       "      <th>116</th>\n",
       "      <td>BELIF Witch Hazel Herbal Extract Toner</td>\n",
       "      <td>BELIF</td>\n",
       "      <td>Witch Hazel Herbal Extract Toner</td>\n",
       "      <td>facial-toner-skin-toner</td>\n",
       "      <td>https://www.sephora.com/product/witch-hazel-he...</td>\n",
       "      <td>4.6</td>\n",
       "      <td>28.0</td>\n",
       "      <td>SIZE 6.75 oz/ 200 mL•ITEM 1686344</td>\n",
       "      <td>6.75</td>\n",
       "      <td>4.148148</td>\n",
       "      <td>What it is:\\nA toner formulated with witch haz...</td>\n",
       "      <td>Water, Monarda Didyma Leaf Extract 8%, Glyceri...</td>\n",
       "      <td>Water, Monarda Didyma Leaf Extract 8%, Glyceri...</td>\n",
       "      <td>https://www.sephora.com/productimages/sku/s348...</td>\n",
       "    </tr>\n",
       "  </tbody>\n",
       "</table>\n",
       "</div>"
      ],
      "text/plain": [
       "                                  full_name  brand  \\\n",
       "56   BELIF Witch Hazel Herbal Extract Toner  BELIF   \n",
       "116  BELIF Witch Hazel Herbal Extract Toner  BELIF   \n",
       "\n",
       "                                 name                   Category  \\\n",
       "56   Witch Hazel Herbal Extract Toner  face-wash-facial-cleanser   \n",
       "116  Witch Hazel Herbal Extract Toner    facial-toner-skin-toner   \n",
       "\n",
       "                                                   URL  rating  price  \\\n",
       "56   https://www.sephora.com/product/witch-hazel-he...     4.6   28.0   \n",
       "116  https://www.sephora.com/product/witch-hazel-he...     4.6   28.0   \n",
       "\n",
       "                           productsize    oz  price_oz  \\\n",
       "56   SIZE 6.75 oz/ 200 mL•ITEM 1686344  6.75  4.148148   \n",
       "116  SIZE 6.75 oz/ 200 mL•ITEM 1686344  6.75  4.148148   \n",
       "\n",
       "                                          descriptions  \\\n",
       "56   What it is:\\nA toner formulated with witch haz...   \n",
       "116  What it is:\\nA toner formulated with witch haz...   \n",
       "\n",
       "                                           ingredients  \\\n",
       "56   Water, Monarda Didyma Leaf Extract 8%, Glyceri...   \n",
       "116  Water, Monarda Didyma Leaf Extract 8%, Glyceri...   \n",
       "\n",
       "                                      pure_ingredients  \\\n",
       "56   Water, Monarda Didyma Leaf Extract 8%, Glyceri...   \n",
       "116  Water, Monarda Didyma Leaf Extract 8%, Glyceri...   \n",
       "\n",
       "                                                   pic  \n",
       "56   https://www.sephora.com/productimages/sku/s348...  \n",
       "116  https://www.sephora.com/productimages/sku/s348...  "
      ]
     },
     "execution_count": 320,
     "metadata": {},
     "output_type": "execute_result"
    }
   ],
   "source": [
    "df[df.full_name == 'BELIF Witch Hazel Herbal Extract Toner']"
   ]
  },
  {
   "cell_type": "code",
   "execution_count": 321,
   "metadata": {},
   "outputs": [],
   "source": [
    "df.loc[116,'full_name'] = 'BELIF Witch Hazel Herbal Extract Toner v2'"
   ]
  },
  {
   "cell_type": "code",
   "execution_count": 323,
   "metadata": {},
   "outputs": [],
   "source": [
    "df.to_csv('product_info_clean.csv')"
   ]
  },
  {
   "cell_type": "code",
   "execution_count": 309,
   "metadata": {},
   "outputs": [],
   "source": []
  },
  {
   "cell_type": "code",
   "execution_count": 2,
   "metadata": {},
   "outputs": [],
   "source": [
    "#part 2 user reviews \n",
    "review = pd.read_csv(\"../datasets/review.csv\")"
   ]
  },
  {
   "cell_type": "code",
   "execution_count": 3,
   "metadata": {},
   "outputs": [
    {
     "name": "stdout",
     "output_type": "stream",
     "text": [
      "<class 'pandas.core.frame.DataFrame'>\n",
      "RangeIndex: 158208 entries, 0 to 158207\n",
      "Data columns (total 11 columns):\n",
      "Unnamed: 0      158208 non-null int64\n",
      "Unnamed: 0.1    158208 non-null int64\n",
      "Category        158208 non-null object\n",
      "brand           158208 non-null object\n",
      "name            158208 non-null object\n",
      "user            156907 non-null object\n",
      "stars           158208 non-null int64\n",
      "short_review    122493 non-null object\n",
      "long_review     155827 non-null object\n",
      "helpfulness     158208 non-null int64\n",
      "time            157666 non-null object\n",
      "dtypes: int64(4), object(7)\n",
      "memory usage: 13.3+ MB\n"
     ]
    }
   ],
   "source": [
    "review.info()"
   ]
  },
  {
   "cell_type": "code",
   "execution_count": 5,
   "metadata": {},
   "outputs": [
    {
     "data": {
      "text/html": [
       "<div>\n",
       "<style scoped>\n",
       "    .dataframe tbody tr th:only-of-type {\n",
       "        vertical-align: middle;\n",
       "    }\n",
       "\n",
       "    .dataframe tbody tr th {\n",
       "        vertical-align: top;\n",
       "    }\n",
       "\n",
       "    .dataframe thead th {\n",
       "        text-align: right;\n",
       "    }\n",
       "</style>\n",
       "<table border=\"1\" class=\"dataframe\">\n",
       "  <thead>\n",
       "    <tr style=\"text-align: right;\">\n",
       "      <th></th>\n",
       "      <th>full_name</th>\n",
       "      <th>Category</th>\n",
       "      <th>brand</th>\n",
       "      <th>name</th>\n",
       "      <th>user</th>\n",
       "      <th>stars</th>\n",
       "      <th>short_review</th>\n",
       "      <th>long_review</th>\n",
       "      <th>helpfulness</th>\n",
       "      <th>time</th>\n",
       "    </tr>\n",
       "  </thead>\n",
       "  <tbody>\n",
       "    <tr>\n",
       "      <th>0</th>\n",
       "      <td>FRESH Soy Face Cleanser</td>\n",
       "      <td>face-wash-facial-cleanser</td>\n",
       "      <td>FRESH</td>\n",
       "      <td>Soy Face Cleanser</td>\n",
       "      <td>camha</td>\n",
       "      <td>1</td>\n",
       "      <td>No thank you</td>\n",
       "      <td>This cleanser has too many preservatives in it...</td>\n",
       "      <td>276</td>\n",
       "      <td>26 Oct 2013</td>\n",
       "    </tr>\n",
       "    <tr>\n",
       "      <th>1</th>\n",
       "      <td>FRESH Soy Face Cleanser</td>\n",
       "      <td>face-wash-facial-cleanser</td>\n",
       "      <td>FRESH</td>\n",
       "      <td>Soy Face Cleanser</td>\n",
       "      <td>ChristineJi</td>\n",
       "      <td>1</td>\n",
       "      <td>irritates my skin</td>\n",
       "      <td>I originally received a sample size of this cl...</td>\n",
       "      <td>109</td>\n",
       "      <td>21 Dec 2016</td>\n",
       "    </tr>\n",
       "    <tr>\n",
       "      <th>2</th>\n",
       "      <td>FRESH Soy Face Cleanser</td>\n",
       "      <td>face-wash-facial-cleanser</td>\n",
       "      <td>FRESH</td>\n",
       "      <td>Soy Face Cleanser</td>\n",
       "      <td>tracyacnp</td>\n",
       "      <td>4</td>\n",
       "      <td>Good product, but a little pricey</td>\n",
       "      <td>Quality wise, this is an awesome product. My f...</td>\n",
       "      <td>49</td>\n",
       "      <td>9 Oct 2008</td>\n",
       "    </tr>\n",
       "    <tr>\n",
       "      <th>3</th>\n",
       "      <td>FRESH Soy Face Cleanser</td>\n",
       "      <td>face-wash-facial-cleanser</td>\n",
       "      <td>FRESH</td>\n",
       "      <td>Soy Face Cleanser</td>\n",
       "      <td>tenngal</td>\n",
       "      <td>5</td>\n",
       "      <td>Excellent cleanser...</td>\n",
       "      <td>Fresh's Soy Face Cleanser is absolutely one of...</td>\n",
       "      <td>48</td>\n",
       "      <td>14 Jan 2009</td>\n",
       "    </tr>\n",
       "    <tr>\n",
       "      <th>4</th>\n",
       "      <td>FRESH Soy Face Cleanser</td>\n",
       "      <td>face-wash-facial-cleanser</td>\n",
       "      <td>FRESH</td>\n",
       "      <td>Soy Face Cleanser</td>\n",
       "      <td>chiquita4011</td>\n",
       "      <td>5</td>\n",
       "      <td>Switched from Purity Made Simple...</td>\n",
       "      <td>I was using Philosophy's Purity Made Simple fo...</td>\n",
       "      <td>42</td>\n",
       "      <td>12 Dec 2008</td>\n",
       "    </tr>\n",
       "  </tbody>\n",
       "</table>\n",
       "</div>"
      ],
      "text/plain": [
       "                 full_name                   Category  brand  \\\n",
       "0  FRESH Soy Face Cleanser  face-wash-facial-cleanser  FRESH   \n",
       "1  FRESH Soy Face Cleanser  face-wash-facial-cleanser  FRESH   \n",
       "2  FRESH Soy Face Cleanser  face-wash-facial-cleanser  FRESH   \n",
       "3  FRESH Soy Face Cleanser  face-wash-facial-cleanser  FRESH   \n",
       "4  FRESH Soy Face Cleanser  face-wash-facial-cleanser  FRESH   \n",
       "\n",
       "                name          user  stars  \\\n",
       "0  Soy Face Cleanser         camha      1   \n",
       "1  Soy Face Cleanser   ChristineJi      1   \n",
       "2  Soy Face Cleanser     tracyacnp      4   \n",
       "3  Soy Face Cleanser       tenngal      5   \n",
       "4  Soy Face Cleanser  chiquita4011      5   \n",
       "\n",
       "                          short_review  \\\n",
       "0                         No thank you   \n",
       "1                    irritates my skin   \n",
       "2    Good product, but a little pricey   \n",
       "3                Excellent cleanser...   \n",
       "4  Switched from Purity Made Simple...   \n",
       "\n",
       "                                         long_review  helpfulness         time  \n",
       "0  This cleanser has too many preservatives in it...          276  26 Oct 2013  \n",
       "1  I originally received a sample size of this cl...          109  21 Dec 2016  \n",
       "2  Quality wise, this is an awesome product. My f...           49   9 Oct 2008  \n",
       "3  Fresh's Soy Face Cleanser is absolutely one of...           48  14 Jan 2009  \n",
       "4  I was using Philosophy's Purity Made Simple fo...           42  12 Dec 2008  "
      ]
     },
     "execution_count": 5,
     "metadata": {},
     "output_type": "execute_result"
    }
   ],
   "source": [
    "review.drop(columns = ['Unnamed: 0','Unnamed: 0.1'], inplace = True)\n",
    "full_name = review.brand+' '+review.name\n",
    "df_fn = full_name.to_frame(name = 'full_name')\n",
    "review = pd.concat([df_fn,review],axis= 1)\n",
    "review.head()"
   ]
  },
  {
   "cell_type": "code",
   "execution_count": 6,
   "metadata": {},
   "outputs": [],
   "source": [
    "#drop rows that dont have username or reviews\n",
    "#drop deplicated reviews\n",
    "\n",
    "review.dropna(subset=['user', 'long_review'], inplace = True)\n",
    "review.drop_duplicates(subset = ['long_review'],inplace = True)"
   ]
  },
  {
   "cell_type": "code",
   "execution_count": 7,
   "metadata": {},
   "outputs": [
    {
     "name": "stdout",
     "output_type": "stream",
     "text": [
      "<class 'pandas.core.frame.DataFrame'>\n",
      "Int64Index: 138017 entries, 0 to 158207\n",
      "Data columns (total 10 columns):\n",
      "full_name       138017 non-null object\n",
      "Category        138017 non-null object\n",
      "brand           138017 non-null object\n",
      "name            138017 non-null object\n",
      "user            138017 non-null object\n",
      "stars           138017 non-null int64\n",
      "short_review    107882 non-null object\n",
      "long_review     138017 non-null object\n",
      "helpfulness     138017 non-null int64\n",
      "time            137585 non-null object\n",
      "dtypes: int64(2), object(8)\n",
      "memory usage: 11.6+ MB\n"
     ]
    }
   ],
   "source": [
    "review.info()"
   ]
  },
  {
   "cell_type": "code",
   "execution_count": 8,
   "metadata": {},
   "outputs": [],
   "source": [
    "#drop product reviews that product has no rating(not enough people rating), \n",
    "#or it is a product set, which include more than one product.\n",
    "droplist = [ 'PHILOSOPHY Purity Cleanser + Microdelivery Wash BFF Set',  'LANEIGE Moisturizing Foam Cleanser',\n",
    "            'LANCER The Method: Cleanse', 'BOSCIA Resurfacing Treatment Toner with Apple Cider',\n",
    "            'EVIAN Brumisateur® Natural Mineral Water Facial Spray Travel Trio', \"BELIF Aqua Bomb Surf's Up\"]\n",
    "for i in droplist:\n",
    "    for e in review.full_name:\n",
    "        if e == i:\n",
    "            review = review[review.full_name != e ]"
   ]
  },
  {
   "cell_type": "code",
   "execution_count": 9,
   "metadata": {},
   "outputs": [
    {
     "name": "stdout",
     "output_type": "stream",
     "text": [
      "<class 'pandas.core.frame.DataFrame'>\n",
      "RangeIndex: 137685 entries, 0 to 137684\n",
      "Data columns (total 10 columns):\n",
      "full_name       137685 non-null object\n",
      "Category        137685 non-null object\n",
      "brand           137685 non-null object\n",
      "name            137685 non-null object\n",
      "user            137685 non-null object\n",
      "stars           137685 non-null int64\n",
      "short_review    107655 non-null object\n",
      "long_review     137685 non-null object\n",
      "helpfulness     137685 non-null int64\n",
      "time            137253 non-null object\n",
      "dtypes: int64(2), object(8)\n",
      "memory usage: 10.5+ MB\n"
     ]
    }
   ],
   "source": [
    "review = review.reset_index(drop=True)\n",
    "review.info()"
   ]
  },
  {
   "cell_type": "code",
   "execution_count": 10,
   "metadata": {},
   "outputs": [],
   "source": [
    "#assign id number to each review\n",
    "l = []\n",
    "n = 0\n",
    "for i in range(len(review)):\n",
    "    try:\n",
    "        if review.name[i] == review.name[i+1]:\n",
    "            l.append(n)\n",
    "        else:\n",
    "            l.append(n)\n",
    "            n = n+1\n",
    "    except KeyError:\n",
    "        l.append(n)\n",
    "review['id'] = l"
   ]
  },
  {
   "cell_type": "code",
   "execution_count": 11,
   "metadata": {},
   "outputs": [],
   "source": [
    "#repurchase rate\n",
    "l = []\n",
    "l1 = []\n",
    "l2 = []\n",
    "l3 = []\n",
    "for i in range(281):\n",
    "    frequency = review[review.id == i].user.value_counts()\n",
    "    total = len(frequency)\n",
    "    repurchase = sum([1 for i in frequency if i >1])\n",
    "    rate = repurchase/total\n",
    "    name = list(review[review.id == i].full_name)[0]\n",
    "    \n",
    "    l.append(name)\n",
    "    l1.append(total)\n",
    "    l2.append(repurchase)\n",
    "    l3.append(rate)\n",
    "    \n",
    "df_repurchase = pd.DataFrame({'product': l, 'total':l1,'repurchase': l2, 'rate': l3})"
   ]
  },
  {
   "cell_type": "code",
   "execution_count": 12,
   "metadata": {},
   "outputs": [
    {
     "data": {
      "text/html": [
       "<div>\n",
       "<style scoped>\n",
       "    .dataframe tbody tr th:only-of-type {\n",
       "        vertical-align: middle;\n",
       "    }\n",
       "\n",
       "    .dataframe tbody tr th {\n",
       "        vertical-align: top;\n",
       "    }\n",
       "\n",
       "    .dataframe thead th {\n",
       "        text-align: right;\n",
       "    }\n",
       "</style>\n",
       "<table border=\"1\" class=\"dataframe\">\n",
       "  <thead>\n",
       "    <tr style=\"text-align: right;\">\n",
       "      <th></th>\n",
       "      <th>product</th>\n",
       "      <th>total</th>\n",
       "      <th>repurchase</th>\n",
       "      <th>rate</th>\n",
       "    </tr>\n",
       "  </thead>\n",
       "  <tbody>\n",
       "    <tr>\n",
       "      <th>178</th>\n",
       "      <td>ANTHONY Astringent Toner Pads</td>\n",
       "      <td>98</td>\n",
       "      <td>5</td>\n",
       "      <td>0.051020</td>\n",
       "    </tr>\n",
       "    <tr>\n",
       "      <th>76</th>\n",
       "      <td>CLINIQUE Rinse-Off Foaming Cleanser</td>\n",
       "      <td>704</td>\n",
       "      <td>27</td>\n",
       "      <td>0.038352</td>\n",
       "    </tr>\n",
       "    <tr>\n",
       "      <th>47</th>\n",
       "      <td>PHILOSOPHY The Microdelivery Exfoliating Facia...</td>\n",
       "      <td>2776</td>\n",
       "      <td>99</td>\n",
       "      <td>0.035663</td>\n",
       "    </tr>\n",
       "    <tr>\n",
       "      <th>275</th>\n",
       "      <td>SHISEIDO Bio-Performance Advanced Super Revita...</td>\n",
       "      <td>321</td>\n",
       "      <td>11</td>\n",
       "      <td>0.034268</td>\n",
       "    </tr>\n",
       "    <tr>\n",
       "      <th>142</th>\n",
       "      <td>MURAD Hydrating Toner</td>\n",
       "      <td>270</td>\n",
       "      <td>9</td>\n",
       "      <td>0.033333</td>\n",
       "    </tr>\n",
       "  </tbody>\n",
       "</table>\n",
       "</div>"
      ],
      "text/plain": [
       "                                               product  total  repurchase  \\\n",
       "178                      ANTHONY Astringent Toner Pads     98           5   \n",
       "76                 CLINIQUE Rinse-Off Foaming Cleanser    704          27   \n",
       "47   PHILOSOPHY The Microdelivery Exfoliating Facia...   2776          99   \n",
       "275  SHISEIDO Bio-Performance Advanced Super Revita...    321          11   \n",
       "142                              MURAD Hydrating Toner    270           9   \n",
       "\n",
       "         rate  \n",
       "178  0.051020  \n",
       "76   0.038352  \n",
       "47   0.035663  \n",
       "275  0.034268  \n",
       "142  0.033333  "
      ]
     },
     "execution_count": 12,
     "metadata": {},
     "output_type": "execute_result"
    }
   ],
   "source": [
    "df_repurchase.sort_values(by = 'rate', ascending = False).head()"
   ]
  },
  {
   "cell_type": "code",
   "execution_count": 13,
   "metadata": {},
   "outputs": [],
   "source": [
    "df_repurchase.to_csv('../datasets/repurchase.csv')"
   ]
  },
  {
   "cell_type": "code",
   "execution_count": 14,
   "metadata": {},
   "outputs": [],
   "source": [
    "review.to_csv('../datasets/review_clean.csv')"
   ]
  },
  {
   "cell_type": "code",
   "execution_count": null,
   "metadata": {},
   "outputs": [],
   "source": []
  }
 ],
 "metadata": {
  "kernelspec": {
   "display_name": "Python 3",
   "language": "python",
   "name": "python3"
  },
  "language_info": {
   "codemirror_mode": {
    "name": "ipython",
    "version": 3
   },
   "file_extension": ".py",
   "mimetype": "text/x-python",
   "name": "python",
   "nbconvert_exporter": "python",
   "pygments_lexer": "ipython3",
   "version": "3.7.3"
  }
 },
 "nbformat": 4,
 "nbformat_minor": 2
}
